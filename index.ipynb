{
 "cells": [
  {
   "cell_type": "markdown",
   "id": "3913ccaa",
   "metadata": {},
   "source": [
    "# Web Design Book"
   ]
  },
  {
   "cell_type": "markdown",
   "id": "18102032",
   "metadata": {},
   "source": []
  }
 ],
 "metadata": {
  "language_info": {
   "name": "python"
  }
 },
 "nbformat": 4,
 "nbformat_minor": 5
}
