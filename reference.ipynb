{
 "cells": [
  {
   "cell_type": "markdown",
   "id": "a00596aa",
   "metadata": {},
   "source": [
    "# 참고문헌"
   ]
  },
  {
   "cell_type": "markdown",
   "id": "e5ff685e",
   "metadata": {},
   "source": [
    "::: {.hidden}\n",
    "\n",
    "- Tiny CSS Projects\n",
    "chrome-extension://oemmndcbldboiebfnladdacbdfmadadm/file:///Users/joelkim/Work/study/study_web/book/Css/Dowden/Dowden%20-%202023%20-%20Tiny%20CSS%20Projects.pdf\n",
    "\n",
    "- CSS in Depth\n",
    "chrome-extension://oemmndcbldboiebfnladdacbdfmadadm/file:///Users/joelkim/Work/study/study_web/book/Css/Grant/2024%20-%20Grant%20-%20CSS%20in%20Depth.pdf\n",
    "\n",
    "- Web Design Playground\n",
    "chrome-extension://oemmndcbldboiebfnladdacbdfmadadm/file:///Users/joelkim/Work/study/study_web/book/Design/McFedries/2024%20-%20McFedries%20-%20Web%20Design%20Playground.pdf\n",
    "\n",
    "\n",
    ":::\n"
   ]
  },
  {
   "cell_type": "raw",
   "id": "be5021ef",
   "metadata": {
    "vscode": {
     "languageId": "raw"
    }
   },
   "source": [
    "---\n",
    "nocite: |\n",
    "  @beaird2020\n",
    "---"
   ]
  },
  {
   "cell_type": "markdown",
   "id": "07c0b1ba",
   "metadata": {},
   "source": [
    "::: {#refs}\n",
    ":::"
   ]
  }
 ],
 "metadata": {
  "language_info": {
   "name": "python"
  }
 },
 "nbformat": 4,
 "nbformat_minor": 5
}
