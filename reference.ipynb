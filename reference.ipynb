{
 "cells": [
  {
   "cell_type": "markdown",
   "id": "a00596aa",
   "metadata": {},
   "source": [
    "# 참고문헌"
   ]
  },
  {
   "cell_type": "raw",
   "id": "be5021ef",
   "metadata": {
    "vscode": {
     "languageId": "raw"
    }
   },
   "source": [
    "---\n",
    "nocite: |\n",
    "  @beaird2020\n",
    "---"
   ]
  },
  {
   "cell_type": "markdown",
   "id": "07c0b1ba",
   "metadata": {},
   "source": [
    "::: {#refs}\n",
    ":::"
   ]
  }
 ],
 "metadata": {
  "language_info": {
   "name": "python"
  }
 },
 "nbformat": 4,
 "nbformat_minor": 5
}
