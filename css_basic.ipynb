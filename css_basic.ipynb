{
 "cells": [
  {
   "cell_type": "markdown",
   "id": "789d9fb2",
   "metadata": {},
   "source": [
    "# CSS 기초"
   ]
  },
  {
   "cell_type": "markdown",
   "id": "cd0ce253",
   "metadata": {},
   "source": [
    "## 선언"
   ]
  },
  {
   "cell_type": "markdown",
   "id": "4cf41403",
   "metadata": {},
   "source": [
    "```css\n",
    "selector {\n",
    "  property: value;\n",
    "}\n",
    "```"
   ]
  },
  {
   "cell_type": "markdown",
   "id": "3363a4bc",
   "metadata": {},
   "source": [
    "## 삽입"
   ]
  },
  {
   "cell_type": "markdown",
   "id": "0eb5b9c5",
   "metadata": {},
   "source": [
    "1. 인라인\n",
    "2. 임베디드\n",
    "3. 외부"
   ]
  },
  {
   "cell_type": "markdown",
   "id": "b038a012",
   "metadata": {},
   "source": [
    "### 인라인"
   ]
  },
  {
   "cell_type": "markdown",
   "id": "4e26aab1",
   "metadata": {},
   "source": [
    "### 임베디드"
   ]
  },
  {
   "cell_type": "markdown",
   "id": "0ab49865",
   "metadata": {},
   "source": [
    "```html\n",
    "<!DOCTYPE html> \n",
    "<html lang=\"en\"> \n",
    "<head> \n",
    "<meta charset=\"utf-8\"> \n",
    "<title></title> \n",
    "<style></style> \n",
    "</head> \n",
    "<body> \n",
    "</body> \n",
    "</html>\n",
    "```"
   ]
  },
  {
   "cell_type": "markdown",
   "id": "54bb4afb",
   "metadata": {},
   "source": [
    "### 예제 001"
   ]
  },
  {
   "cell_type": "markdown",
   "id": "06007d10",
   "metadata": {},
   "source": [
    "<iframe src=\"html/list001a.html\" width=\"100%\" height=\"200\" style=\"border: 1px solid black;\"></iframe>\n"
   ]
  },
  {
   "cell_type": "markdown",
   "id": "b5cdcb89",
   "metadata": {},
   "source": [
    "<iframe src=\"html/list001b.html\" width=\"100%\" height=\"200\" style=\"border: 1px solid black;\"></iframe>\n"
   ]
  },
  {
   "cell_type": "markdown",
   "id": "181b4f20",
   "metadata": {},
   "source": []
  }
 ],
 "metadata": {
  "language_info": {
   "name": "python"
  }
 },
 "nbformat": 4,
 "nbformat_minor": 5
}
