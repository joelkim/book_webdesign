{
 "cells": [
  {
   "cell_type": "markdown",
   "id": "96478d60",
   "metadata": {},
   "source": [
    "# Beard Chapter 1"
   ]
  },
  {
   "cell_type": "markdown",
   "id": "6e909aba",
   "metadata": {},
   "source": [
    "::: {.hidden}\n",
    "\n",
    "chrome-extension://oemmndcbldboiebfnladdacbdfmadadm/file:///Users/joelkim/Work/study/study_web/book/Design/Beaird/Beaird%20%20-%202014%20-%20The%20Principles%20of%20Beautiful%20Web%20Design.pdf#chapter_layout\n",
    "\n",
    ":::"
   ]
  },
  {
   "cell_type": "markdown",
   "id": "2e8ddf5a",
   "metadata": {},
   "source": []
  }
 ],
 "metadata": {
  "language_info": {
   "name": "python"
  }
 },
 "nbformat": 4,
 "nbformat_minor": 5
}
