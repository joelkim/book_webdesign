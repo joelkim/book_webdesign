{
 "cells": [
  {
   "cell_type": "markdown",
   "id": "f8372655",
   "metadata": {},
   "source": [
    "# Samara Chapter 1 Making the Grid"
   ]
  },
  {
   "cell_type": "markdown",
   "id": "a886b8e3",
   "metadata": {},
   "source": [
    "::: {.hidden}\n",
    "\n",
    "chrome-extension://oemmndcbldboiebfnladdacbdfmadadm/file:///Users/joelkim/Work/study/study_web/book/Design/Samara/Samara%20-%202017%20-%20Making%20and%20Breaking%20the%20Grid.pdf#%5B%7B%22num%22%3A152%2C%22gen%22%3A0%7D%2C%7B%22name%22%3A%22Fit%22%7D%5D\n",
    "\n",
    ":::"
   ]
  },
  {
   "cell_type": "markdown",
   "id": "f2179a0d",
   "metadata": {},
   "source": [
    "All design work involves problem solving on both visual and organizational levels. Pictures and symbols, fields of text, headlines, tabular data: all these pieces must come together to communicate as a totality. A grid is one approach to doing so."
   ]
  },
  {
   "cell_type": "markdown",
   "id": "ab1a3875",
   "metadata": {},
   "source": [
    "Before anything else, a grid introduces systematic order to a layout. Not only does it distinguish different types of information, easing a user’s navigation through them but — just as importantly — it ensures vital cohesion among visual elements, harmonizing them through the systems of spatial proportions and positioning logic it defines."
   ]
  },
  {
   "cell_type": "markdown",
   "id": "06f511c8",
   "metadata": {},
   "source": [
    "Using a grid permits a designer to more rapidly lay out enormous amounts of information because many design considerations are addressed in building the grid’s structure at the outset of a project. A grid also allows many individuals to collaborate on the same project, or on related projects, without compromising established visual qualities from one instance to the next. The benefits of working with a grid are simple: clarity, efficiency, and continuity."
   ]
  },
  {
   "cell_type": "markdown",
   "id": "e30c55db",
   "metadata": {},
   "source": [
    "To some designers, the grid is an inherent part of the craft of designing, as is joinery in the craft of furniture making. Its assimilation into practice has been part of an evolution in how graphic designers think about designing, as well as a response to specific communi- cation and production issues needing to be addressed at various times throughout the discipline’s history."
   ]
  },
  {
   "cell_type": "markdown",
   "id": "691180a8",
   "metadata": {},
   "source": [
    "## Comming to Order - A Brief History of the Grid in Graphic Design"
   ]
  },
  {
   "cell_type": "markdown",
   "id": "5371354b",
   "metadata": {},
   "source": [
    "The grid’s development over the past 150 years coincides with dramatic technological and social changes in Western civilization and the response of philosophers, artists, and designers to those changes. The Indus- trial Revolution that began in 1740s England changed the way people lived—its effect on our culture was fundamental. As the invention of mechanical power induced people to seek a living in cities, power shifted away from the land-owning aristocracy toward manufac- turers, merchants, and the working class. Demand from an urban population with ever-increasing buying power stimulated technology, fueling mass production, lowered costs, and increased availability."
   ]
  },
  {
   "cell_type": "markdown",
   "id": "a26a3443",
   "metadata": {},
   "source": [
    "지난 150년 동안 그리드의 발전은 서구 문명의 극적인 기술 및 사회적 변화와 이러한 변화에 대한 철학자, 예술가 및 디자이너의 반응과 일치합니다.1740년대 영국에서 시작된 인더스트리얼 혁명은 사람들의 생활 방식을 바꾸었습니다. 혁명이 우리 문화에 미친 영향은 근본적이었습니다.기계 동력의 발명으로 사람들이 도시에서 생계를 찾게 되자 권력은 토지 소유 귀족에서 벗어나 제조업자, 상인, 노동계급으로 옮겨갔습니다.구매력이 계속 증가하는 도시 인구의 수요로 인해 기술이 활성화되어 대량 생산이 가속화되고 비용이 절감되며 가용성이 향상되었습니다."
   ]
  },
  {
   "cell_type": "markdown",
   "id": "1305b1a2",
   "metadata": {},
   "source": [
    "___ Design assumed an important role in communicating the desirability of material goods. In addition, the French and American revolutions facilitated progress in social equality, public education, and literacy, and helped to create a greater audience for reading material."
   ]
  },
  {
   "cell_type": "markdown",
   "id": "3b868a67",
   "metadata": {},
   "source": [
    "___ 디자인은 물질적 상품의 바람직함을 전달하는 데 중요한 역할을 했습니다.또한 프랑스와 미국의 혁명은 사회적 평등, 공교육, 문맹 퇴치의 발전을 촉진했고 독서 자료를 더 많이 찾는 데 도움이 되었습니다."
   ]
  },
  {
   "cell_type": "markdown",
   "id": "785b4218",
   "metadata": {},
   "source": [
    "___ With this enormous psychographic change came aesthetic confusion. The Beaux-Arts tradition, much unchanged since the Renaissance and bolstered by the strong moral and spiritual convictions of the times, held on to its aesthetic contrivances and no- tions of neoclassical taste. A Victorian pen- chant for Gothic architecture merged oddly with a taste for exotic textures imported from the outreaches of the British Empire."
   ]
  },
  {
   "cell_type": "markdown",
   "id": "d1499495",
   "metadata": {},
   "source": [
    "___ 이 엄청난 심리적 변화와 함께 미학적 혼란이 뒤따랐습니다.보자르 전통은 르네상스 이후 거의 변하지 않았고 당시의 강한 도덕적, 영적 신념에 힘입어 미학적 독창성과 신고전주의적 취향을 고수했습니다.고딕 건축 양식을 뜻하는 빅토리아 시대 필기곡이 대영 제국의 근교에서 가져온 이국적인 질감에 대한 취향과 이상하게도 조화를 이룹니다."
   ]
  },
  {
   "cell_type": "markdown",
   "id": "e80d338e",
   "metadata": {},
   "source": [
    "___ Contradictory design approaches and the need to supply the consuming masses with products reached a kind of plateau in 1856 when writer and designer Owen Jones produced The Grammar of Ornament, an enormous catalog of patterns, styles, and embellishments that were co-opted to mass-produce poorly made goods of ques- tionable aesthetic quality."
   ]
  },
  {
   "cell_type": "markdown",
   "id": "9eb5d853",
   "metadata": {},
   "source": [
    "___ 1856년 작가이자 디자이너인 오웬 존스 (Owen Jones) 가 패턴, 스타일, 장식의 방대한 카탈로그인 The Grammar of Ornament를 제작하면서 모순된 디자인 접근법과 소비 대중에게 제품을 공급해야 할 필요성이 일종의 정체기에 이르렀습니다. 이 카탈로그는 미적 품질이 미학적으로 부실하게 만들어진 제품을 대량 생산하기 위해 채택되었습니다."
   ]
  },
  {
   "cell_type": "markdown",
   "id": "dc3f41d5",
   "metadata": {},
   "source": [
    "### FITNESS OF PURPOSE"
   ]
  },
  {
   "cell_type": "markdown",
   "id": "e3e997b7",
   "metadata": {},
   "source": [
    "The English Arts and Crafts movement in architecture, painting, and design grew out of a reaction to this decline. At the movement’s forefront was William Morris, a young student of privileged background who had become interested in poetry and architecture—and their seeming disconnection with the indus- trialized world. Morris was inspired by John Ruskin, a writer who insisted art could be the basis of a social order that improved lives by unifying it with labor, as it had in the Middle Ages. Together with Edward Burne-Jones, a fellow poet and painter, and Philip Webb, an architect, Morris undertook the revitalization of England’s daily aesthetic life. Webb’s de- sign of Red House in 1860 for a just-married Morris organized the spaces asymmetrically, based on their intended uses, thereby dictating the shape of the facade. At the time, this idea was unheard of—the prevailing neo- classical model called for a box layout with a symmetrical facade."
   ]
  },
  {
   "cell_type": "markdown",
   "id": "485ed777",
   "metadata": {},
   "source": [
    "건축, 회화, 디자인 분야의 영국 예술 및 공예 운동은 이러한 쇠퇴에 대한 반응에서 비롯되었습니다.이 운동의 최전선에는 특권층의 젊은 학생인 윌리엄 모리스 (William Morris) 가 있었습니다. 그는 시와 건축에 관심을 갖게 되었고 산업화된 세계와 단절된 것처럼 보였습니다.모리스는 중세 시대처럼 예술을 노동과 통합하여 삶을 개선하는 사회 질서의 기반이 될 수 있다고 주장한 작가 존 러스킨에게서 영감을 받았습니다.모리스는 동료 시인이자 화가인 에드워드 번-존스, 건축가인 필립 웹 (Philip Webb) 과 함께 영국의 일상의 미적 삶에 활력을 불어넣는 작업에 착수했습니다.웹이 1860년에 결혼한 지 얼마 안 된 모리스를 위해 레드 하우스를 디자인하면서 의도한 용도에 따라 공간을 비대칭적으로 구성했고, 그 결과 정면의 모양이 결정되었습니다.당시에는 이런 아이디어는 전례가 없었습니다. 널리 퍼진 신고전주의 모델은 대칭적인 외관을 가진 박스 레이아웃을 요구했습니다."
   ]
  },
  {
   "cell_type": "markdown",
   "id": "8d192c3b",
   "metadata": {},
   "source": []
  }
 ],
 "metadata": {
  "language_info": {
   "name": "python"
  }
 },
 "nbformat": 4,
 "nbformat_minor": 5
}
